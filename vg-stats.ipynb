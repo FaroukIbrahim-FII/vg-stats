{
 "cells": [],
 "metadata": {
  "interpreter": {
   "hash": "02d9a388702c384ce283bc7129103b51e3f650fb97ec5deb93ca03639797cd0b"
  },
  "kernelspec": {
   "display_name": "Python 3 (ipykernel)",
   "language": "python",
   "name": "python3"
  },
  "language_info": {
   "codemirror_mode": {
    "name": "ipython",
    "version": 3
   },
   "file_extension": ".py",
   "mimetype": "text/x-python",
   "name": "python",
   "nbconvert_exporter": "python",
   "pygments_lexer": "ipython3",
   "version": "3.9.5"
  }
 },
 "nbformat": 4,
 "nbformat_minor": 4
}
